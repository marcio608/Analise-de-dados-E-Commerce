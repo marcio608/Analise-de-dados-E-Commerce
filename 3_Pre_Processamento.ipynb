{
 "cells": [
  {
   "cell_type": "code",
   "execution_count": 1,
   "id": "db3e8f17",
   "metadata": {},
   "outputs": [
    {
     "name": "stdout",
     "output_type": "stream",
     "text": [
      "Versão usada neste notebook: 3.9.12\n"
     ]
    }
   ],
   "source": [
    "from platform import python_version\n",
    "print('Versão usada neste notebook:',python_version())"
   ]
  },
  {
   "cell_type": "code",
   "execution_count": 2,
   "id": "924fcc4c",
   "metadata": {},
   "outputs": [],
   "source": [
    "#Importações\n",
    "\n",
    "import sklearn\n",
    "import numpy as np\n",
    "import pandas as pd\n",
    "from sklearn.preprocessing import LabelEncoder, MinMaxScaler, StandardScaler"
   ]
  },
  {
   "cell_type": "code",
   "execution_count": 3,
   "id": "b1f2a14f",
   "metadata": {},
   "outputs": [
    {
     "data": {
      "text/html": [
       "<div>\n",
       "<style scoped>\n",
       "    .dataframe tbody tr th:only-of-type {\n",
       "        vertical-align: middle;\n",
       "    }\n",
       "\n",
       "    .dataframe tbody tr th {\n",
       "        vertical-align: top;\n",
       "    }\n",
       "\n",
       "    .dataframe thead th {\n",
       "        text-align: right;\n",
       "    }\n",
       "</style>\n",
       "<table border=\"1\" class=\"dataframe\">\n",
       "  <thead>\n",
       "    <tr style=\"text-align: right;\">\n",
       "      <th></th>\n",
       "      <th>ID</th>\n",
       "      <th>corredor_armazem</th>\n",
       "      <th>modo_envio</th>\n",
       "      <th>numero_chamadas_cliente</th>\n",
       "      <th>avaliacao_cliente</th>\n",
       "      <th>custo_produto</th>\n",
       "      <th>compras_anteriores</th>\n",
       "      <th>prioridade_produto</th>\n",
       "      <th>genero</th>\n",
       "      <th>desconto</th>\n",
       "      <th>peso_gramas</th>\n",
       "      <th>entregue_no_prazo</th>\n",
       "      <th>performance_prioridade_envio</th>\n",
       "      <th>performance_modo_envio</th>\n",
       "      <th>Faixa de Desconto</th>\n",
       "      <th>performance_faixa_desconto</th>\n",
       "    </tr>\n",
       "  </thead>\n",
       "  <tbody>\n",
       "    <tr>\n",
       "      <th>0</th>\n",
       "      <td>1</td>\n",
       "      <td>D</td>\n",
       "      <td>Aviao</td>\n",
       "      <td>4</td>\n",
       "      <td>2</td>\n",
       "      <td>177</td>\n",
       "      <td>3</td>\n",
       "      <td>baixa</td>\n",
       "      <td>F</td>\n",
       "      <td>44</td>\n",
       "      <td>1233</td>\n",
       "      <td>1</td>\n",
       "      <td>Não Houve Atraso</td>\n",
       "      <td>Não Houve Atraso</td>\n",
       "      <td>Desconto acima da média</td>\n",
       "      <td>Entrega no Prazo com Desconto Acima da Media</td>\n",
       "    </tr>\n",
       "    <tr>\n",
       "      <th>1</th>\n",
       "      <td>2</td>\n",
       "      <td>F</td>\n",
       "      <td>Aviao</td>\n",
       "      <td>4</td>\n",
       "      <td>5</td>\n",
       "      <td>216</td>\n",
       "      <td>2</td>\n",
       "      <td>baixa</td>\n",
       "      <td>M</td>\n",
       "      <td>59</td>\n",
       "      <td>3088</td>\n",
       "      <td>1</td>\n",
       "      <td>Não Houve Atraso</td>\n",
       "      <td>Não Houve Atraso</td>\n",
       "      <td>Desconto acima da média</td>\n",
       "      <td>Entrega no Prazo com Desconto Acima da Media</td>\n",
       "    </tr>\n",
       "    <tr>\n",
       "      <th>2</th>\n",
       "      <td>3</td>\n",
       "      <td>A</td>\n",
       "      <td>Aviao</td>\n",
       "      <td>2</td>\n",
       "      <td>2</td>\n",
       "      <td>183</td>\n",
       "      <td>4</td>\n",
       "      <td>baixa</td>\n",
       "      <td>M</td>\n",
       "      <td>48</td>\n",
       "      <td>3374</td>\n",
       "      <td>1</td>\n",
       "      <td>Não Houve Atraso</td>\n",
       "      <td>Não Houve Atraso</td>\n",
       "      <td>Desconto acima da média</td>\n",
       "      <td>Entrega no Prazo com Desconto Acima da Media</td>\n",
       "    </tr>\n",
       "    <tr>\n",
       "      <th>3</th>\n",
       "      <td>4</td>\n",
       "      <td>B</td>\n",
       "      <td>Aviao</td>\n",
       "      <td>3</td>\n",
       "      <td>3</td>\n",
       "      <td>176</td>\n",
       "      <td>4</td>\n",
       "      <td>media</td>\n",
       "      <td>M</td>\n",
       "      <td>10</td>\n",
       "      <td>1177</td>\n",
       "      <td>1</td>\n",
       "      <td>Não Houve Atraso</td>\n",
       "      <td>Não Houve Atraso</td>\n",
       "      <td>Desconto abaixo da média</td>\n",
       "      <td>Entrega no Prazo com Desconto Abaixo da Media</td>\n",
       "    </tr>\n",
       "    <tr>\n",
       "      <th>4</th>\n",
       "      <td>5</td>\n",
       "      <td>C</td>\n",
       "      <td>Aviao</td>\n",
       "      <td>2</td>\n",
       "      <td>2</td>\n",
       "      <td>184</td>\n",
       "      <td>3</td>\n",
       "      <td>media</td>\n",
       "      <td>F</td>\n",
       "      <td>46</td>\n",
       "      <td>2484</td>\n",
       "      <td>1</td>\n",
       "      <td>Não Houve Atraso</td>\n",
       "      <td>Não Houve Atraso</td>\n",
       "      <td>Desconto acima da média</td>\n",
       "      <td>Entrega no Prazo com Desconto Acima da Media</td>\n",
       "    </tr>\n",
       "  </tbody>\n",
       "</table>\n",
       "</div>"
      ],
      "text/plain": [
       "   ID corredor_armazem modo_envio  numero_chamadas_cliente  avaliacao_cliente  \\\n",
       "0   1                D      Aviao                        4                  2   \n",
       "1   2                F      Aviao                        4                  5   \n",
       "2   3                A      Aviao                        2                  2   \n",
       "3   4                B      Aviao                        3                  3   \n",
       "4   5                C      Aviao                        2                  2   \n",
       "\n",
       "   custo_produto  compras_anteriores prioridade_produto genero  desconto  \\\n",
       "0            177                   3              baixa      F        44   \n",
       "1            216                   2              baixa      M        59   \n",
       "2            183                   4              baixa      M        48   \n",
       "3            176                   4              media      M        10   \n",
       "4            184                   3              media      F        46   \n",
       "\n",
       "   peso_gramas  entregue_no_prazo performance_prioridade_envio  \\\n",
       "0         1233                  1             Não Houve Atraso   \n",
       "1         3088                  1             Não Houve Atraso   \n",
       "2         3374                  1             Não Houve Atraso   \n",
       "3         1177                  1             Não Houve Atraso   \n",
       "4         2484                  1             Não Houve Atraso   \n",
       "\n",
       "  performance_modo_envio         Faixa de Desconto  \\\n",
       "0       Não Houve Atraso   Desconto acima da média   \n",
       "1       Não Houve Atraso   Desconto acima da média   \n",
       "2       Não Houve Atraso   Desconto acima da média   \n",
       "3       Não Houve Atraso  Desconto abaixo da média   \n",
       "4       Não Houve Atraso   Desconto acima da média   \n",
       "\n",
       "                      performance_faixa_desconto  \n",
       "0   Entrega no Prazo com Desconto Acima da Media  \n",
       "1   Entrega no Prazo com Desconto Acima da Media  \n",
       "2   Entrega no Prazo com Desconto Acima da Media  \n",
       "3  Entrega no Prazo com Desconto Abaixo da Media  \n",
       "4   Entrega no Prazo com Desconto Acima da Media  "
      ]
     },
     "execution_count": 3,
     "metadata": {},
     "output_type": "execute_result"
    }
   ],
   "source": [
    "#Carregando o dataframe criado no notebook 2\n",
    "\n",
    "df = pd.read_csv('df_eng.csv', index_col= 0)\n",
    "df.head()"
   ]
  },
  {
   "cell_type": "code",
   "execution_count": 4,
   "id": "030da08b",
   "metadata": {},
   "outputs": [
    {
     "data": {
      "text/plain": [
       "(10643, 16)"
      ]
     },
     "execution_count": 4,
     "metadata": {},
     "output_type": "execute_result"
    }
   ],
   "source": [
    "df.shape"
   ]
  },
  {
   "cell_type": "code",
   "execution_count": 5,
   "id": "37fc415d",
   "metadata": {},
   "outputs": [
    {
     "name": "stdout",
     "output_type": "stream",
     "text": [
      "<class 'pandas.core.frame.DataFrame'>\n",
      "Int64Index: 10643 entries, 0 to 10999\n",
      "Data columns (total 16 columns):\n",
      " #   Column                        Non-Null Count  Dtype \n",
      "---  ------                        --------------  ----- \n",
      " 0   ID                            10643 non-null  int64 \n",
      " 1   corredor_armazem              10643 non-null  object\n",
      " 2   modo_envio                    10643 non-null  object\n",
      " 3   numero_chamadas_cliente       10643 non-null  int64 \n",
      " 4   avaliacao_cliente             10643 non-null  int64 \n",
      " 5   custo_produto                 10643 non-null  int64 \n",
      " 6   compras_anteriores            10643 non-null  int64 \n",
      " 7   prioridade_produto            10643 non-null  object\n",
      " 8   genero                        10643 non-null  object\n",
      " 9   desconto                      10643 non-null  int64 \n",
      " 10  peso_gramas                   10643 non-null  int64 \n",
      " 11  entregue_no_prazo             10643 non-null  int64 \n",
      " 12  performance_prioridade_envio  10643 non-null  object\n",
      " 13  performance_modo_envio        10643 non-null  object\n",
      " 14  Faixa de Desconto             10643 non-null  object\n",
      " 15  performance_faixa_desconto    10643 non-null  object\n",
      "dtypes: int64(8), object(8)\n",
      "memory usage: 1.4+ MB\n"
     ]
    }
   ],
   "source": [
    "df.info()"
   ]
  },
  {
   "cell_type": "code",
   "execution_count": 6,
   "id": "42cc17cf",
   "metadata": {},
   "outputs": [
    {
     "data": {
      "text/plain": [
       "Index(['ID', 'corredor_armazem', 'modo_envio', 'numero_chamadas_cliente',\n",
       "       'avaliacao_cliente', 'custo_produto', 'compras_anteriores',\n",
       "       'prioridade_produto', 'genero', 'desconto', 'peso_gramas',\n",
       "       'entregue_no_prazo', 'performance_prioridade_envio',\n",
       "       'performance_modo_envio', 'Faixa de Desconto',\n",
       "       'performance_faixa_desconto'],\n",
       "      dtype='object')"
      ]
     },
     "execution_count": 6,
     "metadata": {},
     "output_type": "execute_result"
    }
   ],
   "source": [
    "df.columns"
   ]
  },
  {
   "cell_type": "markdown",
   "id": "ff068a0d",
   "metadata": {},
   "source": [
    "### **Tratando Variáveis Categóricas**"
   ]
  },
  {
   "cell_type": "markdown",
   "id": "f54ac988",
   "metadata": {},
   "source": [
    "#### **Método Label Encoding**"
   ]
  },
  {
   "cell_type": "code",
   "execution_count": 7,
   "id": "0a8786c2",
   "metadata": {},
   "outputs": [],
   "source": [
    "# Abordagem 1"
   ]
  },
  {
   "cell_type": "code",
   "execution_count": 8,
   "id": "a6039962",
   "metadata": {},
   "outputs": [
    {
     "data": {
      "text/plain": [
       "baixa    5174\n",
       "media    4587\n",
       "alta      882\n",
       "Name: prioridade_produto, dtype: int64"
      ]
     },
     "execution_count": 8,
     "metadata": {},
     "output_type": "execute_result"
    }
   ],
   "source": [
    "# Variável 'prioridade_produto'\n",
    "\n",
    "df['prioridade_produto'].value_counts()"
   ]
  },
  {
   "cell_type": "code",
   "execution_count": 9,
   "id": "d843ca60",
   "metadata": {},
   "outputs": [],
   "source": [
    "# Observamos que temos uma variável categórica ordinal.\n",
    "#Criando um dicionário de mapeamento:\n",
    "\n",
    "dic_map_var = {'baixa':1, 'media':2, 'alta':0}"
   ]
  },
  {
   "cell_type": "code",
   "execution_count": 10,
   "id": "079a955f",
   "metadata": {},
   "outputs": [],
   "source": [
    "df['prioridade_produto'] = df['prioridade_produto'].map(dic_map_var)\n"
   ]
  },
  {
   "cell_type": "code",
   "execution_count": 11,
   "id": "21d5deb4",
   "metadata": {},
   "outputs": [
    {
     "data": {
      "text/plain": [
       "1    5174\n",
       "2    4587\n",
       "0     882\n",
       "Name: prioridade_produto, dtype: int64"
      ]
     },
     "execution_count": 11,
     "metadata": {},
     "output_type": "execute_result"
    }
   ],
   "source": [
    "df['prioridade_produto'].value_counts()"
   ]
  },
  {
   "cell_type": "code",
   "execution_count": 12,
   "id": "dfc18d80",
   "metadata": {},
   "outputs": [
    {
     "data": {
      "text/html": [
       "<div>\n",
       "<style scoped>\n",
       "    .dataframe tbody tr th:only-of-type {\n",
       "        vertical-align: middle;\n",
       "    }\n",
       "\n",
       "    .dataframe tbody tr th {\n",
       "        vertical-align: top;\n",
       "    }\n",
       "\n",
       "    .dataframe thead th {\n",
       "        text-align: right;\n",
       "    }\n",
       "</style>\n",
       "<table border=\"1\" class=\"dataframe\">\n",
       "  <thead>\n",
       "    <tr style=\"text-align: right;\">\n",
       "      <th></th>\n",
       "      <th>ID</th>\n",
       "      <th>corredor_armazem</th>\n",
       "      <th>modo_envio</th>\n",
       "      <th>numero_chamadas_cliente</th>\n",
       "      <th>avaliacao_cliente</th>\n",
       "      <th>custo_produto</th>\n",
       "      <th>compras_anteriores</th>\n",
       "      <th>prioridade_produto</th>\n",
       "      <th>genero</th>\n",
       "      <th>desconto</th>\n",
       "      <th>peso_gramas</th>\n",
       "      <th>entregue_no_prazo</th>\n",
       "      <th>performance_prioridade_envio</th>\n",
       "      <th>performance_modo_envio</th>\n",
       "      <th>Faixa de Desconto</th>\n",
       "      <th>performance_faixa_desconto</th>\n",
       "    </tr>\n",
       "  </thead>\n",
       "  <tbody>\n",
       "    <tr>\n",
       "      <th>0</th>\n",
       "      <td>1</td>\n",
       "      <td>D</td>\n",
       "      <td>Aviao</td>\n",
       "      <td>4</td>\n",
       "      <td>2</td>\n",
       "      <td>177</td>\n",
       "      <td>3</td>\n",
       "      <td>1</td>\n",
       "      <td>F</td>\n",
       "      <td>44</td>\n",
       "      <td>1233</td>\n",
       "      <td>1</td>\n",
       "      <td>Não Houve Atraso</td>\n",
       "      <td>Não Houve Atraso</td>\n",
       "      <td>Desconto acima da média</td>\n",
       "      <td>Entrega no Prazo com Desconto Acima da Media</td>\n",
       "    </tr>\n",
       "    <tr>\n",
       "      <th>1</th>\n",
       "      <td>2</td>\n",
       "      <td>F</td>\n",
       "      <td>Aviao</td>\n",
       "      <td>4</td>\n",
       "      <td>5</td>\n",
       "      <td>216</td>\n",
       "      <td>2</td>\n",
       "      <td>1</td>\n",
       "      <td>M</td>\n",
       "      <td>59</td>\n",
       "      <td>3088</td>\n",
       "      <td>1</td>\n",
       "      <td>Não Houve Atraso</td>\n",
       "      <td>Não Houve Atraso</td>\n",
       "      <td>Desconto acima da média</td>\n",
       "      <td>Entrega no Prazo com Desconto Acima da Media</td>\n",
       "    </tr>\n",
       "    <tr>\n",
       "      <th>2</th>\n",
       "      <td>3</td>\n",
       "      <td>A</td>\n",
       "      <td>Aviao</td>\n",
       "      <td>2</td>\n",
       "      <td>2</td>\n",
       "      <td>183</td>\n",
       "      <td>4</td>\n",
       "      <td>1</td>\n",
       "      <td>M</td>\n",
       "      <td>48</td>\n",
       "      <td>3374</td>\n",
       "      <td>1</td>\n",
       "      <td>Não Houve Atraso</td>\n",
       "      <td>Não Houve Atraso</td>\n",
       "      <td>Desconto acima da média</td>\n",
       "      <td>Entrega no Prazo com Desconto Acima da Media</td>\n",
       "    </tr>\n",
       "    <tr>\n",
       "      <th>3</th>\n",
       "      <td>4</td>\n",
       "      <td>B</td>\n",
       "      <td>Aviao</td>\n",
       "      <td>3</td>\n",
       "      <td>3</td>\n",
       "      <td>176</td>\n",
       "      <td>4</td>\n",
       "      <td>2</td>\n",
       "      <td>M</td>\n",
       "      <td>10</td>\n",
       "      <td>1177</td>\n",
       "      <td>1</td>\n",
       "      <td>Não Houve Atraso</td>\n",
       "      <td>Não Houve Atraso</td>\n",
       "      <td>Desconto abaixo da média</td>\n",
       "      <td>Entrega no Prazo com Desconto Abaixo da Media</td>\n",
       "    </tr>\n",
       "    <tr>\n",
       "      <th>4</th>\n",
       "      <td>5</td>\n",
       "      <td>C</td>\n",
       "      <td>Aviao</td>\n",
       "      <td>2</td>\n",
       "      <td>2</td>\n",
       "      <td>184</td>\n",
       "      <td>3</td>\n",
       "      <td>2</td>\n",
       "      <td>F</td>\n",
       "      <td>46</td>\n",
       "      <td>2484</td>\n",
       "      <td>1</td>\n",
       "      <td>Não Houve Atraso</td>\n",
       "      <td>Não Houve Atraso</td>\n",
       "      <td>Desconto acima da média</td>\n",
       "      <td>Entrega no Prazo com Desconto Acima da Media</td>\n",
       "    </tr>\n",
       "  </tbody>\n",
       "</table>\n",
       "</div>"
      ],
      "text/plain": [
       "   ID corredor_armazem modo_envio  numero_chamadas_cliente  avaliacao_cliente  \\\n",
       "0   1                D      Aviao                        4                  2   \n",
       "1   2                F      Aviao                        4                  5   \n",
       "2   3                A      Aviao                        2                  2   \n",
       "3   4                B      Aviao                        3                  3   \n",
       "4   5                C      Aviao                        2                  2   \n",
       "\n",
       "   custo_produto  compras_anteriores  prioridade_produto genero  desconto  \\\n",
       "0            177                   3                   1      F        44   \n",
       "1            216                   2                   1      M        59   \n",
       "2            183                   4                   1      M        48   \n",
       "3            176                   4                   2      M        10   \n",
       "4            184                   3                   2      F        46   \n",
       "\n",
       "   peso_gramas  entregue_no_prazo performance_prioridade_envio  \\\n",
       "0         1233                  1             Não Houve Atraso   \n",
       "1         3088                  1             Não Houve Atraso   \n",
       "2         3374                  1             Não Houve Atraso   \n",
       "3         1177                  1             Não Houve Atraso   \n",
       "4         2484                  1             Não Houve Atraso   \n",
       "\n",
       "  performance_modo_envio         Faixa de Desconto  \\\n",
       "0       Não Houve Atraso   Desconto acima da média   \n",
       "1       Não Houve Atraso   Desconto acima da média   \n",
       "2       Não Houve Atraso   Desconto acima da média   \n",
       "3       Não Houve Atraso  Desconto abaixo da média   \n",
       "4       Não Houve Atraso   Desconto acima da média   \n",
       "\n",
       "                      performance_faixa_desconto  \n",
       "0   Entrega no Prazo com Desconto Acima da Media  \n",
       "1   Entrega no Prazo com Desconto Acima da Media  \n",
       "2   Entrega no Prazo com Desconto Acima da Media  \n",
       "3  Entrega no Prazo com Desconto Abaixo da Media  \n",
       "4   Entrega no Prazo com Desconto Acima da Media  "
      ]
     },
     "execution_count": 12,
     "metadata": {},
     "output_type": "execute_result"
    }
   ],
   "source": [
    "df.head()"
   ]
  },
  {
   "cell_type": "code",
   "execution_count": 13,
   "id": "ba293932",
   "metadata": {},
   "outputs": [
    {
     "data": {
      "text/plain": [
       "Navio       7212\n",
       "Aviao       1728\n",
       "Caminhao    1703\n",
       "Name: modo_envio, dtype: int64"
      ]
     },
     "execution_count": 13,
     "metadata": {},
     "output_type": "execute_result"
    }
   ],
   "source": [
    "#Variável 'modo_envio'.\n",
    "# Variável categórica ordinal (existe uma diferença de custo por tipo de envio)\n",
    "\n",
    "df['modo_envio'].value_counts()"
   ]
  },
  {
   "cell_type": "code",
   "execution_count": 14,
   "id": "d0fa01ac",
   "metadata": {},
   "outputs": [],
   "source": [
    "dic_map_var_2 = {'Navio': 0, 'Aviao': 1, 'Caminhao': 2}"
   ]
  },
  {
   "cell_type": "code",
   "execution_count": 15,
   "id": "06c43a7a",
   "metadata": {},
   "outputs": [],
   "source": [
    "df['modo_envio'] = df['modo_envio'].map(dic_map_var_2)"
   ]
  },
  {
   "cell_type": "code",
   "execution_count": 16,
   "id": "8b9f06b6",
   "metadata": {},
   "outputs": [
    {
     "data": {
      "text/plain": [
       "0    7212\n",
       "1    1728\n",
       "2    1703\n",
       "Name: modo_envio, dtype: int64"
      ]
     },
     "execution_count": 16,
     "metadata": {},
     "output_type": "execute_result"
    }
   ],
   "source": [
    "df['modo_envio'].value_counts()"
   ]
  },
  {
   "cell_type": "code",
   "execution_count": 17,
   "id": "0f7e9c63",
   "metadata": {},
   "outputs": [],
   "source": [
    "#Abordagem 2"
   ]
  },
  {
   "cell_type": "code",
   "execution_count": 18,
   "id": "2ca987cf",
   "metadata": {},
   "outputs": [
    {
     "data": {
      "text/plain": [
       "F    5357\n",
       "M    5286\n",
       "Name: genero, dtype: int64"
      ]
     },
     "execution_count": 18,
     "metadata": {},
     "output_type": "execute_result"
    }
   ],
   "source": [
    "#Variável 'genero'\n",
    "\n",
    "#Variável categórica nominal (não há hierarquia nesta variável)\n",
    "\n",
    "df['genero'].value_counts()"
   ]
  },
  {
   "cell_type": "code",
   "execution_count": 19,
   "id": "8255cb66",
   "metadata": {},
   "outputs": [],
   "source": [
    "# Usaremos o método LabelEncoder\n",
    "le = LabelEncoder()"
   ]
  },
  {
   "cell_type": "code",
   "execution_count": 20,
   "id": "45fbc1b3",
   "metadata": {},
   "outputs": [],
   "source": [
    "# O correto é aplicar o LabelEncoder nos dados de treinos.\n",
    "# Porém como o objetivo deste estudo é somente entender o pré processamento aplicamos esse método \n",
    "#para todo o dataset."
   ]
  },
  {
   "cell_type": "code",
   "execution_count": 21,
   "id": "2bfcd9bd",
   "metadata": {},
   "outputs": [],
   "source": [
    "df['genero'] = le.fit_transform(df['genero'])"
   ]
  },
  {
   "cell_type": "code",
   "execution_count": 22,
   "id": "86917ba8",
   "metadata": {},
   "outputs": [
    {
     "data": {
      "text/plain": [
       "['F', 'M']"
      ]
     },
     "execution_count": 22,
     "metadata": {},
     "output_type": "execute_result"
    }
   ],
   "source": [
    "list(le.classes_)"
   ]
  },
  {
   "cell_type": "code",
   "execution_count": 23,
   "id": "7f30e09a",
   "metadata": {},
   "outputs": [
    {
     "data": {
      "text/plain": [
       "0    5357\n",
       "1    5286\n",
       "Name: genero, dtype: int64"
      ]
     },
     "execution_count": 23,
     "metadata": {},
     "output_type": "execute_result"
    }
   ],
   "source": [
    "df['genero'].value_counts()"
   ]
  },
  {
   "cell_type": "markdown",
   "id": "5fa90af0",
   "metadata": {},
   "source": [
    "#### Método One - Hot Encoding"
   ]
  },
  {
   "cell_type": "code",
   "execution_count": 24,
   "id": "4af17d14",
   "metadata": {},
   "outputs": [
    {
     "data": {
      "text/html": [
       "<div>\n",
       "<style scoped>\n",
       "    .dataframe tbody tr th:only-of-type {\n",
       "        vertical-align: middle;\n",
       "    }\n",
       "\n",
       "    .dataframe tbody tr th {\n",
       "        vertical-align: top;\n",
       "    }\n",
       "\n",
       "    .dataframe thead th {\n",
       "        text-align: right;\n",
       "    }\n",
       "</style>\n",
       "<table border=\"1\" class=\"dataframe\">\n",
       "  <thead>\n",
       "    <tr style=\"text-align: right;\">\n",
       "      <th></th>\n",
       "      <th>ID</th>\n",
       "      <th>corredor_armazem</th>\n",
       "      <th>modo_envio</th>\n",
       "      <th>numero_chamadas_cliente</th>\n",
       "      <th>avaliacao_cliente</th>\n",
       "      <th>custo_produto</th>\n",
       "      <th>compras_anteriores</th>\n",
       "      <th>prioridade_produto</th>\n",
       "      <th>genero</th>\n",
       "      <th>desconto</th>\n",
       "      <th>peso_gramas</th>\n",
       "      <th>entregue_no_prazo</th>\n",
       "      <th>performance_prioridade_envio</th>\n",
       "      <th>performance_modo_envio</th>\n",
       "      <th>Faixa de Desconto</th>\n",
       "      <th>performance_faixa_desconto</th>\n",
       "    </tr>\n",
       "  </thead>\n",
       "  <tbody>\n",
       "    <tr>\n",
       "      <th>0</th>\n",
       "      <td>1</td>\n",
       "      <td>D</td>\n",
       "      <td>1</td>\n",
       "      <td>4</td>\n",
       "      <td>2</td>\n",
       "      <td>177</td>\n",
       "      <td>3</td>\n",
       "      <td>1</td>\n",
       "      <td>0</td>\n",
       "      <td>44</td>\n",
       "      <td>1233</td>\n",
       "      <td>1</td>\n",
       "      <td>Não Houve Atraso</td>\n",
       "      <td>Não Houve Atraso</td>\n",
       "      <td>Desconto acima da média</td>\n",
       "      <td>Entrega no Prazo com Desconto Acima da Media</td>\n",
       "    </tr>\n",
       "    <tr>\n",
       "      <th>1</th>\n",
       "      <td>2</td>\n",
       "      <td>F</td>\n",
       "      <td>1</td>\n",
       "      <td>4</td>\n",
       "      <td>5</td>\n",
       "      <td>216</td>\n",
       "      <td>2</td>\n",
       "      <td>1</td>\n",
       "      <td>1</td>\n",
       "      <td>59</td>\n",
       "      <td>3088</td>\n",
       "      <td>1</td>\n",
       "      <td>Não Houve Atraso</td>\n",
       "      <td>Não Houve Atraso</td>\n",
       "      <td>Desconto acima da média</td>\n",
       "      <td>Entrega no Prazo com Desconto Acima da Media</td>\n",
       "    </tr>\n",
       "    <tr>\n",
       "      <th>2</th>\n",
       "      <td>3</td>\n",
       "      <td>A</td>\n",
       "      <td>1</td>\n",
       "      <td>2</td>\n",
       "      <td>2</td>\n",
       "      <td>183</td>\n",
       "      <td>4</td>\n",
       "      <td>1</td>\n",
       "      <td>1</td>\n",
       "      <td>48</td>\n",
       "      <td>3374</td>\n",
       "      <td>1</td>\n",
       "      <td>Não Houve Atraso</td>\n",
       "      <td>Não Houve Atraso</td>\n",
       "      <td>Desconto acima da média</td>\n",
       "      <td>Entrega no Prazo com Desconto Acima da Media</td>\n",
       "    </tr>\n",
       "    <tr>\n",
       "      <th>3</th>\n",
       "      <td>4</td>\n",
       "      <td>B</td>\n",
       "      <td>1</td>\n",
       "      <td>3</td>\n",
       "      <td>3</td>\n",
       "      <td>176</td>\n",
       "      <td>4</td>\n",
       "      <td>2</td>\n",
       "      <td>1</td>\n",
       "      <td>10</td>\n",
       "      <td>1177</td>\n",
       "      <td>1</td>\n",
       "      <td>Não Houve Atraso</td>\n",
       "      <td>Não Houve Atraso</td>\n",
       "      <td>Desconto abaixo da média</td>\n",
       "      <td>Entrega no Prazo com Desconto Abaixo da Media</td>\n",
       "    </tr>\n",
       "    <tr>\n",
       "      <th>4</th>\n",
       "      <td>5</td>\n",
       "      <td>C</td>\n",
       "      <td>1</td>\n",
       "      <td>2</td>\n",
       "      <td>2</td>\n",
       "      <td>184</td>\n",
       "      <td>3</td>\n",
       "      <td>2</td>\n",
       "      <td>0</td>\n",
       "      <td>46</td>\n",
       "      <td>2484</td>\n",
       "      <td>1</td>\n",
       "      <td>Não Houve Atraso</td>\n",
       "      <td>Não Houve Atraso</td>\n",
       "      <td>Desconto acima da média</td>\n",
       "      <td>Entrega no Prazo com Desconto Acima da Media</td>\n",
       "    </tr>\n",
       "  </tbody>\n",
       "</table>\n",
       "</div>"
      ],
      "text/plain": [
       "   ID corredor_armazem  modo_envio  numero_chamadas_cliente  \\\n",
       "0   1                D           1                        4   \n",
       "1   2                F           1                        4   \n",
       "2   3                A           1                        2   \n",
       "3   4                B           1                        3   \n",
       "4   5                C           1                        2   \n",
       "\n",
       "   avaliacao_cliente  custo_produto  compras_anteriores  prioridade_produto  \\\n",
       "0                  2            177                   3                   1   \n",
       "1                  5            216                   2                   1   \n",
       "2                  2            183                   4                   1   \n",
       "3                  3            176                   4                   2   \n",
       "4                  2            184                   3                   2   \n",
       "\n",
       "   genero  desconto  peso_gramas  entregue_no_prazo  \\\n",
       "0       0        44         1233                  1   \n",
       "1       1        59         3088                  1   \n",
       "2       1        48         3374                  1   \n",
       "3       1        10         1177                  1   \n",
       "4       0        46         2484                  1   \n",
       "\n",
       "  performance_prioridade_envio performance_modo_envio  \\\n",
       "0             Não Houve Atraso       Não Houve Atraso   \n",
       "1             Não Houve Atraso       Não Houve Atraso   \n",
       "2             Não Houve Atraso       Não Houve Atraso   \n",
       "3             Não Houve Atraso       Não Houve Atraso   \n",
       "4             Não Houve Atraso       Não Houve Atraso   \n",
       "\n",
       "          Faixa de Desconto                     performance_faixa_desconto  \n",
       "0   Desconto acima da média   Entrega no Prazo com Desconto Acima da Media  \n",
       "1   Desconto acima da média   Entrega no Prazo com Desconto Acima da Media  \n",
       "2   Desconto acima da média   Entrega no Prazo com Desconto Acima da Media  \n",
       "3  Desconto abaixo da média  Entrega no Prazo com Desconto Abaixo da Media  \n",
       "4   Desconto acima da média   Entrega no Prazo com Desconto Acima da Media  "
      ]
     },
     "execution_count": 24,
     "metadata": {},
     "output_type": "execute_result"
    }
   ],
   "source": [
    "df.head()"
   ]
  },
  {
   "cell_type": "code",
   "execution_count": 25,
   "id": "676a7893",
   "metadata": {},
   "outputs": [
    {
     "data": {
      "text/plain": [
       "F    3539\n",
       "B    1778\n",
       "D    1777\n",
       "A    1777\n",
       "C    1772\n",
       "Name: corredor_armazem, dtype: int64"
      ]
     },
     "execution_count": 25,
     "metadata": {},
     "output_type": "execute_result"
    }
   ],
   "source": [
    "#Variável 'corredor_armazem'\n",
    "df['corredor_armazem'].value_counts()"
   ]
  },
  {
   "cell_type": "code",
   "execution_count": 26,
   "id": "c0b78a71",
   "metadata": {},
   "outputs": [
    {
     "data": {
      "text/plain": [
       "Não Houve Atraso       6282\n",
       "Atraso Tolerável       2134\n",
       "Atraso Problemático    1917\n",
       "Atraso Crítico          310\n",
       "Name: performance_prioridade_envio, dtype: int64"
      ]
     },
     "execution_count": 26,
     "metadata": {},
     "output_type": "execute_result"
    }
   ],
   "source": [
    "#Variável 'performance_prioridade_envio'\n",
    "df['performance_prioridade_envio'].value_counts()"
   ]
  },
  {
   "cell_type": "code",
   "execution_count": 27,
   "id": "9281c971",
   "metadata": {},
   "outputs": [
    {
     "data": {
      "text/plain": [
       "Não Houve Atraso                               6282\n",
       "Atraso Tolerável na Entrega Por Navio          1453\n",
       "Atraso Problemático na Entrega Por Navio       1307\n",
       "Atraso Tolerável na Entrega Por Caminhao        350\n",
       "Atraso Tolerável na Entrega Por Aviao           331\n",
       "Atraso Problemático na Entrega Por Caminhao     310\n",
       "Atraso Problemático na Entrega Por Aviao        300\n",
       "Atraso Crítico na Entrega Por Navio             194\n",
       "Atraso Crítico na Entrega Por Aviao              65\n",
       "Atraso Crítico na Entrega Por Caminhao           51\n",
       "Name: performance_modo_envio, dtype: int64"
      ]
     },
     "execution_count": 27,
     "metadata": {},
     "output_type": "execute_result"
    }
   ],
   "source": [
    "#Variável 'performance_modo_envio'\n",
    "df['performance_modo_envio'].value_counts()"
   ]
  },
  {
   "cell_type": "code",
   "execution_count": 28,
   "id": "228299a9",
   "metadata": {},
   "outputs": [
    {
     "data": {
      "text/plain": [
       "Desconto abaixo da média    8269\n",
       "Desconto acima da média     2374\n",
       "Name: Faixa de Desconto, dtype: int64"
      ]
     },
     "execution_count": 28,
     "metadata": {},
     "output_type": "execute_result"
    }
   ],
   "source": [
    "# Variáel 'Faixa de Desconto'\n",
    "df['Faixa de Desconto'].value_counts()"
   ]
  },
  {
   "cell_type": "code",
   "execution_count": 29,
   "id": "78fc04e6",
   "metadata": {},
   "outputs": [
    {
     "data": {
      "text/plain": [
       "Atraso na Entrega com Desconto Abaixo da Media    4361\n",
       "Entrega no Prazo com Desconto Abaixo da Media     3908\n",
       "Entrega no Prazo com Desconto Acima da Media      2374\n",
       "Name: performance_faixa_desconto, dtype: int64"
      ]
     },
     "execution_count": 29,
     "metadata": {},
     "output_type": "execute_result"
    }
   ],
   "source": [
    "#Variável 'performance_faixa_desconto'\n",
    "df['performance_faixa_desconto'].value_counts()"
   ]
  },
  {
   "cell_type": "code",
   "execution_count": 30,
   "id": "600b33c9",
   "metadata": {},
   "outputs": [],
   "source": [
    "#Aplicando o one hot encoding\n",
    "\n",
    "labels = ['corredor_armazem', \n",
    "            'performance_prioridade_envio', \n",
    "            'performance_modo_envio', \n",
    "            'Faixa de Desconto', \n",
    "            'performance_faixa_desconto']"
   ]
  },
  {
   "cell_type": "code",
   "execution_count": 31,
   "id": "f1042608",
   "metadata": {},
   "outputs": [],
   "source": [
    "for label in labels:\n",
    "    oh = pd.get_dummies(df[label], columns= labels)\n",
    "    df = pd.concat((df, oh), axis= 1).drop(label, axis = 1)"
   ]
  },
  {
   "cell_type": "code",
   "execution_count": 32,
   "id": "74916170",
   "metadata": {},
   "outputs": [
    {
     "data": {
      "text/html": [
       "<div>\n",
       "<style scoped>\n",
       "    .dataframe tbody tr th:only-of-type {\n",
       "        vertical-align: middle;\n",
       "    }\n",
       "\n",
       "    .dataframe tbody tr th {\n",
       "        vertical-align: top;\n",
       "    }\n",
       "\n",
       "    .dataframe thead th {\n",
       "        text-align: right;\n",
       "    }\n",
       "</style>\n",
       "<table border=\"1\" class=\"dataframe\">\n",
       "  <thead>\n",
       "    <tr style=\"text-align: right;\">\n",
       "      <th></th>\n",
       "      <th>ID</th>\n",
       "      <th>modo_envio</th>\n",
       "      <th>numero_chamadas_cliente</th>\n",
       "      <th>avaliacao_cliente</th>\n",
       "      <th>custo_produto</th>\n",
       "      <th>compras_anteriores</th>\n",
       "      <th>prioridade_produto</th>\n",
       "      <th>genero</th>\n",
       "      <th>desconto</th>\n",
       "      <th>peso_gramas</th>\n",
       "      <th>...</th>\n",
       "      <th>Atraso Problemático na Entrega Por Navio</th>\n",
       "      <th>Atraso Tolerável na Entrega Por Aviao</th>\n",
       "      <th>Atraso Tolerável na Entrega Por Caminhao</th>\n",
       "      <th>Atraso Tolerável na Entrega Por Navio</th>\n",
       "      <th>Não Houve Atraso</th>\n",
       "      <th>Desconto abaixo da média</th>\n",
       "      <th>Desconto acima da média</th>\n",
       "      <th>Atraso na Entrega com Desconto Abaixo da Media</th>\n",
       "      <th>Entrega no Prazo com Desconto Abaixo da Media</th>\n",
       "      <th>Entrega no Prazo com Desconto Acima da Media</th>\n",
       "    </tr>\n",
       "  </thead>\n",
       "  <tbody>\n",
       "    <tr>\n",
       "      <th>0</th>\n",
       "      <td>1</td>\n",
       "      <td>1</td>\n",
       "      <td>4</td>\n",
       "      <td>2</td>\n",
       "      <td>177</td>\n",
       "      <td>3</td>\n",
       "      <td>1</td>\n",
       "      <td>0</td>\n",
       "      <td>44</td>\n",
       "      <td>1233</td>\n",
       "      <td>...</td>\n",
       "      <td>0</td>\n",
       "      <td>0</td>\n",
       "      <td>0</td>\n",
       "      <td>0</td>\n",
       "      <td>1</td>\n",
       "      <td>0</td>\n",
       "      <td>1</td>\n",
       "      <td>0</td>\n",
       "      <td>0</td>\n",
       "      <td>1</td>\n",
       "    </tr>\n",
       "    <tr>\n",
       "      <th>1</th>\n",
       "      <td>2</td>\n",
       "      <td>1</td>\n",
       "      <td>4</td>\n",
       "      <td>5</td>\n",
       "      <td>216</td>\n",
       "      <td>2</td>\n",
       "      <td>1</td>\n",
       "      <td>1</td>\n",
       "      <td>59</td>\n",
       "      <td>3088</td>\n",
       "      <td>...</td>\n",
       "      <td>0</td>\n",
       "      <td>0</td>\n",
       "      <td>0</td>\n",
       "      <td>0</td>\n",
       "      <td>1</td>\n",
       "      <td>0</td>\n",
       "      <td>1</td>\n",
       "      <td>0</td>\n",
       "      <td>0</td>\n",
       "      <td>1</td>\n",
       "    </tr>\n",
       "    <tr>\n",
       "      <th>2</th>\n",
       "      <td>3</td>\n",
       "      <td>1</td>\n",
       "      <td>2</td>\n",
       "      <td>2</td>\n",
       "      <td>183</td>\n",
       "      <td>4</td>\n",
       "      <td>1</td>\n",
       "      <td>1</td>\n",
       "      <td>48</td>\n",
       "      <td>3374</td>\n",
       "      <td>...</td>\n",
       "      <td>0</td>\n",
       "      <td>0</td>\n",
       "      <td>0</td>\n",
       "      <td>0</td>\n",
       "      <td>1</td>\n",
       "      <td>0</td>\n",
       "      <td>1</td>\n",
       "      <td>0</td>\n",
       "      <td>0</td>\n",
       "      <td>1</td>\n",
       "    </tr>\n",
       "    <tr>\n",
       "      <th>3</th>\n",
       "      <td>4</td>\n",
       "      <td>1</td>\n",
       "      <td>3</td>\n",
       "      <td>3</td>\n",
       "      <td>176</td>\n",
       "      <td>4</td>\n",
       "      <td>2</td>\n",
       "      <td>1</td>\n",
       "      <td>10</td>\n",
       "      <td>1177</td>\n",
       "      <td>...</td>\n",
       "      <td>0</td>\n",
       "      <td>0</td>\n",
       "      <td>0</td>\n",
       "      <td>0</td>\n",
       "      <td>1</td>\n",
       "      <td>1</td>\n",
       "      <td>0</td>\n",
       "      <td>0</td>\n",
       "      <td>1</td>\n",
       "      <td>0</td>\n",
       "    </tr>\n",
       "    <tr>\n",
       "      <th>4</th>\n",
       "      <td>5</td>\n",
       "      <td>1</td>\n",
       "      <td>2</td>\n",
       "      <td>2</td>\n",
       "      <td>184</td>\n",
       "      <td>3</td>\n",
       "      <td>2</td>\n",
       "      <td>0</td>\n",
       "      <td>46</td>\n",
       "      <td>2484</td>\n",
       "      <td>...</td>\n",
       "      <td>0</td>\n",
       "      <td>0</td>\n",
       "      <td>0</td>\n",
       "      <td>0</td>\n",
       "      <td>1</td>\n",
       "      <td>0</td>\n",
       "      <td>1</td>\n",
       "      <td>0</td>\n",
       "      <td>0</td>\n",
       "      <td>1</td>\n",
       "    </tr>\n",
       "  </tbody>\n",
       "</table>\n",
       "<p>5 rows × 35 columns</p>\n",
       "</div>"
      ],
      "text/plain": [
       "   ID  modo_envio  numero_chamadas_cliente  avaliacao_cliente  custo_produto  \\\n",
       "0   1           1                        4                  2            177   \n",
       "1   2           1                        4                  5            216   \n",
       "2   3           1                        2                  2            183   \n",
       "3   4           1                        3                  3            176   \n",
       "4   5           1                        2                  2            184   \n",
       "\n",
       "   compras_anteriores  prioridade_produto  genero  desconto  peso_gramas  ...  \\\n",
       "0                   3                   1       0        44         1233  ...   \n",
       "1                   2                   1       1        59         3088  ...   \n",
       "2                   4                   1       1        48         3374  ...   \n",
       "3                   4                   2       1        10         1177  ...   \n",
       "4                   3                   2       0        46         2484  ...   \n",
       "\n",
       "   Atraso Problemático na Entrega Por Navio  \\\n",
       "0                                         0   \n",
       "1                                         0   \n",
       "2                                         0   \n",
       "3                                         0   \n",
       "4                                         0   \n",
       "\n",
       "   Atraso Tolerável na Entrega Por Aviao  \\\n",
       "0                                      0   \n",
       "1                                      0   \n",
       "2                                      0   \n",
       "3                                      0   \n",
       "4                                      0   \n",
       "\n",
       "   Atraso Tolerável na Entrega Por Caminhao  \\\n",
       "0                                         0   \n",
       "1                                         0   \n",
       "2                                         0   \n",
       "3                                         0   \n",
       "4                                         0   \n",
       "\n",
       "   Atraso Tolerável na Entrega Por Navio  Não Houve Atraso  \\\n",
       "0                                      0                 1   \n",
       "1                                      0                 1   \n",
       "2                                      0                 1   \n",
       "3                                      0                 1   \n",
       "4                                      0                 1   \n",
       "\n",
       "   Desconto abaixo da média  Desconto acima da média  \\\n",
       "0                         0                        1   \n",
       "1                         0                        1   \n",
       "2                         0                        1   \n",
       "3                         1                        0   \n",
       "4                         0                        1   \n",
       "\n",
       "   Atraso na Entrega com Desconto Abaixo da Media  \\\n",
       "0                                               0   \n",
       "1                                               0   \n",
       "2                                               0   \n",
       "3                                               0   \n",
       "4                                               0   \n",
       "\n",
       "   Entrega no Prazo com Desconto Abaixo da Media  \\\n",
       "0                                              0   \n",
       "1                                              0   \n",
       "2                                              0   \n",
       "3                                              1   \n",
       "4                                              0   \n",
       "\n",
       "   Entrega no Prazo com Desconto Acima da Media  \n",
       "0                                             1  \n",
       "1                                             1  \n",
       "2                                             1  \n",
       "3                                             0  \n",
       "4                                             1  \n",
       "\n",
       "[5 rows x 35 columns]"
      ]
     },
     "execution_count": 32,
     "metadata": {},
     "output_type": "execute_result"
    }
   ],
   "source": [
    "df.head()"
   ]
  },
  {
   "cell_type": "code",
   "execution_count": 33,
   "id": "2941f77f",
   "metadata": {},
   "outputs": [],
   "source": [
    "#Removendo a variável 'ID'\n",
    "df = df.drop(columns=['ID'])"
   ]
  },
  {
   "cell_type": "code",
   "execution_count": 34,
   "id": "725256c6",
   "metadata": {},
   "outputs": [
    {
     "data": {
      "text/html": [
       "<div>\n",
       "<style scoped>\n",
       "    .dataframe tbody tr th:only-of-type {\n",
       "        vertical-align: middle;\n",
       "    }\n",
       "\n",
       "    .dataframe tbody tr th {\n",
       "        vertical-align: top;\n",
       "    }\n",
       "\n",
       "    .dataframe thead th {\n",
       "        text-align: right;\n",
       "    }\n",
       "</style>\n",
       "<table border=\"1\" class=\"dataframe\">\n",
       "  <thead>\n",
       "    <tr style=\"text-align: right;\">\n",
       "      <th></th>\n",
       "      <th>modo_envio</th>\n",
       "      <th>numero_chamadas_cliente</th>\n",
       "      <th>avaliacao_cliente</th>\n",
       "      <th>custo_produto</th>\n",
       "      <th>compras_anteriores</th>\n",
       "      <th>prioridade_produto</th>\n",
       "      <th>genero</th>\n",
       "      <th>desconto</th>\n",
       "      <th>peso_gramas</th>\n",
       "      <th>entregue_no_prazo</th>\n",
       "      <th>...</th>\n",
       "      <th>Atraso Problemático na Entrega Por Navio</th>\n",
       "      <th>Atraso Tolerável na Entrega Por Aviao</th>\n",
       "      <th>Atraso Tolerável na Entrega Por Caminhao</th>\n",
       "      <th>Atraso Tolerável na Entrega Por Navio</th>\n",
       "      <th>Não Houve Atraso</th>\n",
       "      <th>Desconto abaixo da média</th>\n",
       "      <th>Desconto acima da média</th>\n",
       "      <th>Atraso na Entrega com Desconto Abaixo da Media</th>\n",
       "      <th>Entrega no Prazo com Desconto Abaixo da Media</th>\n",
       "      <th>Entrega no Prazo com Desconto Acima da Media</th>\n",
       "    </tr>\n",
       "  </thead>\n",
       "  <tbody>\n",
       "    <tr>\n",
       "      <th>0</th>\n",
       "      <td>1</td>\n",
       "      <td>4</td>\n",
       "      <td>2</td>\n",
       "      <td>177</td>\n",
       "      <td>3</td>\n",
       "      <td>1</td>\n",
       "      <td>0</td>\n",
       "      <td>44</td>\n",
       "      <td>1233</td>\n",
       "      <td>1</td>\n",
       "      <td>...</td>\n",
       "      <td>0</td>\n",
       "      <td>0</td>\n",
       "      <td>0</td>\n",
       "      <td>0</td>\n",
       "      <td>1</td>\n",
       "      <td>0</td>\n",
       "      <td>1</td>\n",
       "      <td>0</td>\n",
       "      <td>0</td>\n",
       "      <td>1</td>\n",
       "    </tr>\n",
       "    <tr>\n",
       "      <th>1</th>\n",
       "      <td>1</td>\n",
       "      <td>4</td>\n",
       "      <td>5</td>\n",
       "      <td>216</td>\n",
       "      <td>2</td>\n",
       "      <td>1</td>\n",
       "      <td>1</td>\n",
       "      <td>59</td>\n",
       "      <td>3088</td>\n",
       "      <td>1</td>\n",
       "      <td>...</td>\n",
       "      <td>0</td>\n",
       "      <td>0</td>\n",
       "      <td>0</td>\n",
       "      <td>0</td>\n",
       "      <td>1</td>\n",
       "      <td>0</td>\n",
       "      <td>1</td>\n",
       "      <td>0</td>\n",
       "      <td>0</td>\n",
       "      <td>1</td>\n",
       "    </tr>\n",
       "    <tr>\n",
       "      <th>2</th>\n",
       "      <td>1</td>\n",
       "      <td>2</td>\n",
       "      <td>2</td>\n",
       "      <td>183</td>\n",
       "      <td>4</td>\n",
       "      <td>1</td>\n",
       "      <td>1</td>\n",
       "      <td>48</td>\n",
       "      <td>3374</td>\n",
       "      <td>1</td>\n",
       "      <td>...</td>\n",
       "      <td>0</td>\n",
       "      <td>0</td>\n",
       "      <td>0</td>\n",
       "      <td>0</td>\n",
       "      <td>1</td>\n",
       "      <td>0</td>\n",
       "      <td>1</td>\n",
       "      <td>0</td>\n",
       "      <td>0</td>\n",
       "      <td>1</td>\n",
       "    </tr>\n",
       "    <tr>\n",
       "      <th>3</th>\n",
       "      <td>1</td>\n",
       "      <td>3</td>\n",
       "      <td>3</td>\n",
       "      <td>176</td>\n",
       "      <td>4</td>\n",
       "      <td>2</td>\n",
       "      <td>1</td>\n",
       "      <td>10</td>\n",
       "      <td>1177</td>\n",
       "      <td>1</td>\n",
       "      <td>...</td>\n",
       "      <td>0</td>\n",
       "      <td>0</td>\n",
       "      <td>0</td>\n",
       "      <td>0</td>\n",
       "      <td>1</td>\n",
       "      <td>1</td>\n",
       "      <td>0</td>\n",
       "      <td>0</td>\n",
       "      <td>1</td>\n",
       "      <td>0</td>\n",
       "    </tr>\n",
       "    <tr>\n",
       "      <th>4</th>\n",
       "      <td>1</td>\n",
       "      <td>2</td>\n",
       "      <td>2</td>\n",
       "      <td>184</td>\n",
       "      <td>3</td>\n",
       "      <td>2</td>\n",
       "      <td>0</td>\n",
       "      <td>46</td>\n",
       "      <td>2484</td>\n",
       "      <td>1</td>\n",
       "      <td>...</td>\n",
       "      <td>0</td>\n",
       "      <td>0</td>\n",
       "      <td>0</td>\n",
       "      <td>0</td>\n",
       "      <td>1</td>\n",
       "      <td>0</td>\n",
       "      <td>1</td>\n",
       "      <td>0</td>\n",
       "      <td>0</td>\n",
       "      <td>1</td>\n",
       "    </tr>\n",
       "  </tbody>\n",
       "</table>\n",
       "<p>5 rows × 34 columns</p>\n",
       "</div>"
      ],
      "text/plain": [
       "   modo_envio  numero_chamadas_cliente  avaliacao_cliente  custo_produto  \\\n",
       "0           1                        4                  2            177   \n",
       "1           1                        4                  5            216   \n",
       "2           1                        2                  2            183   \n",
       "3           1                        3                  3            176   \n",
       "4           1                        2                  2            184   \n",
       "\n",
       "   compras_anteriores  prioridade_produto  genero  desconto  peso_gramas  \\\n",
       "0                   3                   1       0        44         1233   \n",
       "1                   2                   1       1        59         3088   \n",
       "2                   4                   1       1        48         3374   \n",
       "3                   4                   2       1        10         1177   \n",
       "4                   3                   2       0        46         2484   \n",
       "\n",
       "   entregue_no_prazo  ...  Atraso Problemático na Entrega Por Navio  \\\n",
       "0                  1  ...                                         0   \n",
       "1                  1  ...                                         0   \n",
       "2                  1  ...                                         0   \n",
       "3                  1  ...                                         0   \n",
       "4                  1  ...                                         0   \n",
       "\n",
       "   Atraso Tolerável na Entrega Por Aviao  \\\n",
       "0                                      0   \n",
       "1                                      0   \n",
       "2                                      0   \n",
       "3                                      0   \n",
       "4                                      0   \n",
       "\n",
       "   Atraso Tolerável na Entrega Por Caminhao  \\\n",
       "0                                         0   \n",
       "1                                         0   \n",
       "2                                         0   \n",
       "3                                         0   \n",
       "4                                         0   \n",
       "\n",
       "   Atraso Tolerável na Entrega Por Navio  Não Houve Atraso  \\\n",
       "0                                      0                 1   \n",
       "1                                      0                 1   \n",
       "2                                      0                 1   \n",
       "3                                      0                 1   \n",
       "4                                      0                 1   \n",
       "\n",
       "   Desconto abaixo da média  Desconto acima da média  \\\n",
       "0                         0                        1   \n",
       "1                         0                        1   \n",
       "2                         0                        1   \n",
       "3                         1                        0   \n",
       "4                         0                        1   \n",
       "\n",
       "   Atraso na Entrega com Desconto Abaixo da Media  \\\n",
       "0                                               0   \n",
       "1                                               0   \n",
       "2                                               0   \n",
       "3                                               0   \n",
       "4                                               0   \n",
       "\n",
       "   Entrega no Prazo com Desconto Abaixo da Media  \\\n",
       "0                                              0   \n",
       "1                                              0   \n",
       "2                                              0   \n",
       "3                                              1   \n",
       "4                                              0   \n",
       "\n",
       "   Entrega no Prazo com Desconto Acima da Media  \n",
       "0                                             1  \n",
       "1                                             1  \n",
       "2                                             1  \n",
       "3                                             0  \n",
       "4                                             1  \n",
       "\n",
       "[5 rows x 34 columns]"
      ]
     },
     "execution_count": 34,
     "metadata": {},
     "output_type": "execute_result"
    }
   ],
   "source": [
    "df.head()"
   ]
  },
  {
   "cell_type": "code",
   "execution_count": 35,
   "id": "ce3fd109",
   "metadata": {},
   "outputs": [
    {
     "data": {
      "text/plain": [
       "(10643, 34)"
      ]
     },
     "execution_count": 35,
     "metadata": {},
     "output_type": "execute_result"
    }
   ],
   "source": [
    "df.shape"
   ]
  },
  {
   "cell_type": "code",
   "execution_count": 36,
   "id": "4ba924a3",
   "metadata": {},
   "outputs": [
    {
     "data": {
      "text/plain": [
       "Index(['modo_envio', 'numero_chamadas_cliente', 'avaliacao_cliente',\n",
       "       'custo_produto', 'compras_anteriores', 'prioridade_produto', 'genero',\n",
       "       'desconto', 'peso_gramas', 'entregue_no_prazo', 'A', 'B', 'C', 'D', 'F',\n",
       "       'Atraso Crítico', 'Atraso Problemático', 'Atraso Tolerável',\n",
       "       'Não Houve Atraso', 'Atraso Crítico na Entrega Por Aviao',\n",
       "       'Atraso Crítico na Entrega Por Caminhao',\n",
       "       'Atraso Crítico na Entrega Por Navio',\n",
       "       'Atraso Problemático na Entrega Por Aviao',\n",
       "       'Atraso Problemático na Entrega Por Caminhao',\n",
       "       'Atraso Problemático na Entrega Por Navio',\n",
       "       'Atraso Tolerável na Entrega Por Aviao',\n",
       "       'Atraso Tolerável na Entrega Por Caminhao',\n",
       "       'Atraso Tolerável na Entrega Por Navio', 'Não Houve Atraso',\n",
       "       'Desconto abaixo da média', 'Desconto acima da média',\n",
       "       'Atraso na Entrega com Desconto Abaixo da Media',\n",
       "       'Entrega no Prazo com Desconto Abaixo da Media',\n",
       "       'Entrega no Prazo com Desconto Acima da Media'],\n",
       "      dtype='object')"
      ]
     },
     "execution_count": 36,
     "metadata": {},
     "output_type": "execute_result"
    }
   ],
   "source": [
    "df.columns"
   ]
  },
  {
   "cell_type": "markdown",
   "id": "24229d4c",
   "metadata": {},
   "source": [
    "## Feature Scaling\n",
    "\n",
    "\n",
    "\n",
    "- O dimensionamento de recursos (Fature Scaling) consiste em transformar o valor dos recursos em uma faixa semelhante, para que os algoritmos de aprendizado de máquina se comportem melhor, resultando em modelos ideais.\n",
    "\n",
    "- Padronização e normalização são duas técnicas mais comuns para dimensionamento de recursos.\n",
    "\n",
    "- A normalização é transformar os valores dos recursos para que caiam dentro dos intervalos limitados (min e max).\n",
    "\n",
    "- A padronização é transformar os valores de recursos para cair em torno da média como 0 com desvio padrão como 1.\n",
    "\n",
    "- A padronização mantém informações úteis sobre valores discrepantes e torna o algoritmo menos sensível a eles em contraste com o dimensionamento mínimo-máximo.\n",
    "\n",
    "- A classe MinMaxScaler() de sklearn.preprocessing é usada para normalização de recursos.\n",
    "\n",
    "- A classe StandardScaler() de sklearn.preprocessing é usada para padronização de recursos."
   ]
  },
  {
   "cell_type": "markdown",
   "id": "84904215",
   "metadata": {},
   "source": [
    "#### Normalização"
   ]
  },
  {
   "cell_type": "code",
   "execution_count": 37,
   "id": "300b7d02",
   "metadata": {},
   "outputs": [
    {
     "data": {
      "text/plain": [
       "2870     1534\n",
       "3920     4008\n",
       "2740     1577\n",
       "5917     4339\n",
       "10454    1382\n",
       "Name: peso_gramas, dtype: int64"
      ]
     },
     "execution_count": 37,
     "metadata": {},
     "output_type": "execute_result"
    }
   ],
   "source": [
    "# Variável 'peso_gramas'\n",
    "df.peso_gramas.sample(5)"
   ]
  },
  {
   "cell_type": "code",
   "execution_count": 38,
   "id": "170e97ed",
   "metadata": {},
   "outputs": [],
   "source": [
    "#Usando MinMaxScaler\n",
    "\n",
    "# Lembrando que devemos fazer o fit_transform nos dados de treino e transform nos dados de teste. Mas como não iremos\n",
    "#dividir entre treino e teste, aplicaremos no df todo.\n",
    "\n",
    "# O parâmetro values indicas que queremos somente os valores e não os índices.\n",
    "\n",
    "# No final fazemos o reshape para obter um vetor unidimensional\n",
    "\n",
    "df['peso_gramas'] = MinMaxScaler().fit_transform(df['peso_gramas'].values.reshape(len(df), 1))"
   ]
  },
  {
   "cell_type": "code",
   "execution_count": 39,
   "id": "e03c9994",
   "metadata": {},
   "outputs": [
    {
     "data": {
      "text/plain": [
       "6613    0.052155\n",
       "637     0.189481\n",
       "1737    0.010373\n",
       "3361    0.627757\n",
       "5236    0.526954\n",
       "Name: peso_gramas, dtype: float64"
      ]
     },
     "execution_count": 39,
     "metadata": {},
     "output_type": "execute_result"
    }
   ],
   "source": [
    "df['peso_gramas'].sample(5)"
   ]
  },
  {
   "cell_type": "code",
   "execution_count": 40,
   "id": "a29a34d1",
   "metadata": {},
   "outputs": [
    {
     "data": {
      "text/plain": [
       "4467    176\n",
       "1923    269\n",
       "9352    226\n",
       "2514    141\n",
       "7272    283\n",
       "Name: custo_produto, dtype: int64"
      ]
     },
     "execution_count": 40,
     "metadata": {},
     "output_type": "execute_result"
    }
   ],
   "source": [
    "# Variável 'custo_produto'\n",
    "df['custo_produto'].sample(5)"
   ]
  },
  {
   "cell_type": "code",
   "execution_count": 42,
   "id": "9df08c46",
   "metadata": {},
   "outputs": [],
   "source": [
    "df['custo_produto']= MinMaxScaler().fit_transform(df['custo_produto'].values.reshape(len(df), 1))"
   ]
  },
  {
   "cell_type": "code",
   "execution_count": 43,
   "id": "bd88e81a",
   "metadata": {},
   "outputs": [
    {
     "data": {
      "text/plain": [
       "9192     0.859813\n",
       "2139     0.822430\n",
       "10291    0.233645\n",
       "9667     0.724299\n",
       "4375     0.462617\n",
       "Name: custo_produto, dtype: float64"
      ]
     },
     "execution_count": 43,
     "metadata": {},
     "output_type": "execute_result"
    }
   ],
   "source": [
    "df['custo_produto'].sample(5)"
   ]
  },
  {
   "cell_type": "markdown",
   "id": "ab607206",
   "metadata": {},
   "source": [
    "#### Padronização"
   ]
  },
  {
   "cell_type": "markdown",
   "id": "0010c7bc",
   "metadata": {},
   "source": [
    "**ATENÇÃO**: No caso de padronizar o conjunto de dados de treinamento e teste, o estimador StandardScaler() terá o fit() no conjunto de dados de treinamento e o mesmo estimador será usado para transformar o conjunto de dados de treinamento e teste. O mesmo estimador também deve ser usado em novos dados ao fazer previsões com o modelo."
   ]
  },
  {
   "cell_type": "code",
   "execution_count": 45,
   "id": "35e09553",
   "metadata": {},
   "outputs": [],
   "source": [
    "#Variável 'desconto'\n",
    "\n",
    "df['desconto'] = StandardScaler().fit_transform(df['desconto'].values.reshape(len(df), 1))"
   ]
  },
  {
   "cell_type": "code",
   "execution_count": 46,
   "id": "bb2d820f",
   "metadata": {},
   "outputs": [
    {
     "data": {
      "text/plain": [
       "8163    -0.635573\n",
       "10432   -0.168635\n",
       "6151    -0.502162\n",
       "4348    -0.302046\n",
       "10838   -0.768984\n",
       "Name: desconto, dtype: float64"
      ]
     },
     "execution_count": 46,
     "metadata": {},
     "output_type": "execute_result"
    }
   ],
   "source": [
    "df['desconto'].sample(5)"
   ]
  },
  {
   "cell_type": "code",
   "execution_count": 47,
   "id": "f795b30c",
   "metadata": {},
   "outputs": [],
   "source": [
    "# Aplicando para as demais variáveis"
   ]
  },
  {
   "cell_type": "code",
   "execution_count": 48,
   "id": "4e6c6b42",
   "metadata": {},
   "outputs": [],
   "source": [
    "df['numero_chamadas_cliente'] = StandardScaler().fit_transform(df['numero_chamadas_cliente'].values.reshape(len(df), \n",
    "                                                                                                            1))"
   ]
  },
  {
   "cell_type": "code",
   "execution_count": 49,
   "id": "364e2714",
   "metadata": {},
   "outputs": [
    {
     "data": {
      "text/plain": [
       "4861    -0.930527\n",
       "1294    -0.057348\n",
       "340     -1.803706\n",
       "6631    -0.930527\n",
       "4657    -0.057348\n",
       "5754     1.689011\n",
       "10268   -0.057348\n",
       "10556   -0.057348\n",
       "1068    -0.930527\n",
       "5492     0.815832\n",
       "Name: numero_chamadas_cliente, dtype: float64"
      ]
     },
     "execution_count": 49,
     "metadata": {},
     "output_type": "execute_result"
    }
   ],
   "source": [
    "df.numero_chamadas_cliente.sample(10)"
   ]
  },
  {
   "cell_type": "code",
   "execution_count": 50,
   "id": "437f4763",
   "metadata": {},
   "outputs": [
    {
     "data": {
      "text/plain": [
       "3330    0.007718\n",
       "4811    1.423904\n",
       "9780    0.007718\n",
       "6414   -0.700376\n",
       "1935   -0.700376\n",
       "154     0.007718\n",
       "8513    0.007718\n",
       "6094    0.715811\n",
       "2045    0.007718\n",
       "4133    0.715811\n",
       "Name: avaliacao_cliente, dtype: float64"
      ]
     },
     "execution_count": 50,
     "metadata": {},
     "output_type": "execute_result"
    }
   ],
   "source": [
    "df['avaliacao_cliente'] = StandardScaler().fit_transform(df['avaliacao_cliente'].values.reshape(len(df), 1))\n",
    "df.avaliacao_cliente.sample(10)"
   ]
  },
  {
   "cell_type": "code",
   "execution_count": 51,
   "id": "2f8d81e0",
   "metadata": {},
   "outputs": [
    {
     "data": {
      "text/plain": [
       "6170    -0.359702\n",
       "6382    -1.135605\n",
       "3511    -0.359702\n",
       "7497     1.968008\n",
       "10965    1.192105\n",
       "10043   -1.135605\n",
       "376     -1.135605\n",
       "3846    -0.359702\n",
       "6644    -1.135605\n",
       "4116     0.416201\n",
       "Name: compras_anteriores, dtype: float64"
      ]
     },
     "execution_count": 51,
     "metadata": {},
     "output_type": "execute_result"
    }
   ],
   "source": [
    "df['compras_anteriores'] = StandardScaler().fit_transform(df['compras_anteriores'].values.reshape(len(df), 1))\n",
    "df.compras_anteriores.sample(10)"
   ]
  },
  {
   "cell_type": "code",
   "execution_count": 52,
   "id": "47313aa5",
   "metadata": {},
   "outputs": [
    {
     "data": {
      "text/html": [
       "<div>\n",
       "<style scoped>\n",
       "    .dataframe tbody tr th:only-of-type {\n",
       "        vertical-align: middle;\n",
       "    }\n",
       "\n",
       "    .dataframe tbody tr th {\n",
       "        vertical-align: top;\n",
       "    }\n",
       "\n",
       "    .dataframe thead th {\n",
       "        text-align: right;\n",
       "    }\n",
       "</style>\n",
       "<table border=\"1\" class=\"dataframe\">\n",
       "  <thead>\n",
       "    <tr style=\"text-align: right;\">\n",
       "      <th></th>\n",
       "      <th>modo_envio</th>\n",
       "      <th>numero_chamadas_cliente</th>\n",
       "      <th>avaliacao_cliente</th>\n",
       "      <th>custo_produto</th>\n",
       "      <th>compras_anteriores</th>\n",
       "      <th>prioridade_produto</th>\n",
       "      <th>genero</th>\n",
       "      <th>desconto</th>\n",
       "      <th>peso_gramas</th>\n",
       "      <th>entregue_no_prazo</th>\n",
       "      <th>...</th>\n",
       "      <th>Atraso Problemático na Entrega Por Navio</th>\n",
       "      <th>Atraso Tolerável na Entrega Por Aviao</th>\n",
       "      <th>Atraso Tolerável na Entrega Por Caminhao</th>\n",
       "      <th>Atraso Tolerável na Entrega Por Navio</th>\n",
       "      <th>Não Houve Atraso</th>\n",
       "      <th>Desconto abaixo da média</th>\n",
       "      <th>Desconto acima da média</th>\n",
       "      <th>Atraso na Entrega com Desconto Abaixo da Media</th>\n",
       "      <th>Entrega no Prazo com Desconto Abaixo da Media</th>\n",
       "      <th>Entrega no Prazo com Desconto Acima da Media</th>\n",
       "    </tr>\n",
       "  </thead>\n",
       "  <tbody>\n",
       "    <tr>\n",
       "      <th>0</th>\n",
       "      <td>1</td>\n",
       "      <td>-0.057348</td>\n",
       "      <td>-0.700376</td>\n",
       "      <td>0.378505</td>\n",
       "      <td>-0.359702</td>\n",
       "      <td>1</td>\n",
       "      <td>0</td>\n",
       "      <td>2.099353</td>\n",
       "      <td>0.033893</td>\n",
       "      <td>1</td>\n",
       "      <td>...</td>\n",
       "      <td>0</td>\n",
       "      <td>0</td>\n",
       "      <td>0</td>\n",
       "      <td>0</td>\n",
       "      <td>1</td>\n",
       "      <td>0</td>\n",
       "      <td>1</td>\n",
       "      <td>0</td>\n",
       "      <td>0</td>\n",
       "      <td>1</td>\n",
       "    </tr>\n",
       "    <tr>\n",
       "      <th>1</th>\n",
       "      <td>1</td>\n",
       "      <td>-0.057348</td>\n",
       "      <td>1.423904</td>\n",
       "      <td>0.560748</td>\n",
       "      <td>-1.135605</td>\n",
       "      <td>1</td>\n",
       "      <td>1</td>\n",
       "      <td>3.099936</td>\n",
       "      <td>0.304894</td>\n",
       "      <td>1</td>\n",
       "      <td>...</td>\n",
       "      <td>0</td>\n",
       "      <td>0</td>\n",
       "      <td>0</td>\n",
       "      <td>0</td>\n",
       "      <td>1</td>\n",
       "      <td>0</td>\n",
       "      <td>1</td>\n",
       "      <td>0</td>\n",
       "      <td>0</td>\n",
       "      <td>1</td>\n",
       "    </tr>\n",
       "    <tr>\n",
       "      <th>2</th>\n",
       "      <td>1</td>\n",
       "      <td>-1.803706</td>\n",
       "      <td>-0.700376</td>\n",
       "      <td>0.406542</td>\n",
       "      <td>0.416201</td>\n",
       "      <td>1</td>\n",
       "      <td>1</td>\n",
       "      <td>2.366175</td>\n",
       "      <td>0.346676</td>\n",
       "      <td>1</td>\n",
       "      <td>...</td>\n",
       "      <td>0</td>\n",
       "      <td>0</td>\n",
       "      <td>0</td>\n",
       "      <td>0</td>\n",
       "      <td>1</td>\n",
       "      <td>0</td>\n",
       "      <td>1</td>\n",
       "      <td>0</td>\n",
       "      <td>0</td>\n",
       "      <td>1</td>\n",
       "    </tr>\n",
       "    <tr>\n",
       "      <th>3</th>\n",
       "      <td>1</td>\n",
       "      <td>-0.930527</td>\n",
       "      <td>0.007718</td>\n",
       "      <td>0.373832</td>\n",
       "      <td>0.416201</td>\n",
       "      <td>2</td>\n",
       "      <td>1</td>\n",
       "      <td>-0.168635</td>\n",
       "      <td>0.025712</td>\n",
       "      <td>1</td>\n",
       "      <td>...</td>\n",
       "      <td>0</td>\n",
       "      <td>0</td>\n",
       "      <td>0</td>\n",
       "      <td>0</td>\n",
       "      <td>1</td>\n",
       "      <td>1</td>\n",
       "      <td>0</td>\n",
       "      <td>0</td>\n",
       "      <td>1</td>\n",
       "      <td>0</td>\n",
       "    </tr>\n",
       "    <tr>\n",
       "      <th>4</th>\n",
       "      <td>1</td>\n",
       "      <td>-1.803706</td>\n",
       "      <td>-0.700376</td>\n",
       "      <td>0.411215</td>\n",
       "      <td>-0.359702</td>\n",
       "      <td>2</td>\n",
       "      <td>0</td>\n",
       "      <td>2.232764</td>\n",
       "      <td>0.216654</td>\n",
       "      <td>1</td>\n",
       "      <td>...</td>\n",
       "      <td>0</td>\n",
       "      <td>0</td>\n",
       "      <td>0</td>\n",
       "      <td>0</td>\n",
       "      <td>1</td>\n",
       "      <td>0</td>\n",
       "      <td>1</td>\n",
       "      <td>0</td>\n",
       "      <td>0</td>\n",
       "      <td>1</td>\n",
       "    </tr>\n",
       "  </tbody>\n",
       "</table>\n",
       "<p>5 rows × 34 columns</p>\n",
       "</div>"
      ],
      "text/plain": [
       "   modo_envio  numero_chamadas_cliente  avaliacao_cliente  custo_produto  \\\n",
       "0           1                -0.057348          -0.700376       0.378505   \n",
       "1           1                -0.057348           1.423904       0.560748   \n",
       "2           1                -1.803706          -0.700376       0.406542   \n",
       "3           1                -0.930527           0.007718       0.373832   \n",
       "4           1                -1.803706          -0.700376       0.411215   \n",
       "\n",
       "   compras_anteriores  prioridade_produto  genero  desconto  peso_gramas  \\\n",
       "0           -0.359702                   1       0  2.099353     0.033893   \n",
       "1           -1.135605                   1       1  3.099936     0.304894   \n",
       "2            0.416201                   1       1  2.366175     0.346676   \n",
       "3            0.416201                   2       1 -0.168635     0.025712   \n",
       "4           -0.359702                   2       0  2.232764     0.216654   \n",
       "\n",
       "   entregue_no_prazo  ...  Atraso Problemático na Entrega Por Navio  \\\n",
       "0                  1  ...                                         0   \n",
       "1                  1  ...                                         0   \n",
       "2                  1  ...                                         0   \n",
       "3                  1  ...                                         0   \n",
       "4                  1  ...                                         0   \n",
       "\n",
       "   Atraso Tolerável na Entrega Por Aviao  \\\n",
       "0                                      0   \n",
       "1                                      0   \n",
       "2                                      0   \n",
       "3                                      0   \n",
       "4                                      0   \n",
       "\n",
       "   Atraso Tolerável na Entrega Por Caminhao  \\\n",
       "0                                         0   \n",
       "1                                         0   \n",
       "2                                         0   \n",
       "3                                         0   \n",
       "4                                         0   \n",
       "\n",
       "   Atraso Tolerável na Entrega Por Navio  Não Houve Atraso  \\\n",
       "0                                      0                 1   \n",
       "1                                      0                 1   \n",
       "2                                      0                 1   \n",
       "3                                      0                 1   \n",
       "4                                      0                 1   \n",
       "\n",
       "   Desconto abaixo da média  Desconto acima da média  \\\n",
       "0                         0                        1   \n",
       "1                         0                        1   \n",
       "2                         0                        1   \n",
       "3                         1                        0   \n",
       "4                         0                        1   \n",
       "\n",
       "   Atraso na Entrega com Desconto Abaixo da Media  \\\n",
       "0                                               0   \n",
       "1                                               0   \n",
       "2                                               0   \n",
       "3                                               0   \n",
       "4                                               0   \n",
       "\n",
       "   Entrega no Prazo com Desconto Abaixo da Media  \\\n",
       "0                                              0   \n",
       "1                                              0   \n",
       "2                                              0   \n",
       "3                                              1   \n",
       "4                                              0   \n",
       "\n",
       "   Entrega no Prazo com Desconto Acima da Media  \n",
       "0                                             1  \n",
       "1                                             1  \n",
       "2                                             1  \n",
       "3                                             0  \n",
       "4                                             1  \n",
       "\n",
       "[5 rows x 34 columns]"
      ]
     },
     "execution_count": 52,
     "metadata": {},
     "output_type": "execute_result"
    }
   ],
   "source": [
    "df.head()"
   ]
  },
  {
   "cell_type": "code",
   "execution_count": 53,
   "id": "60074ba2",
   "metadata": {},
   "outputs": [],
   "source": [
    "df.to_csv('dataset_final.csv', sep = ',', encoding = 'utf-8')"
   ]
  },
  {
   "cell_type": "markdown",
   "id": "e36e2d80",
   "metadata": {},
   "source": [
    "### Fim do estudo de caso"
   ]
  }
 ],
 "metadata": {
  "kernelspec": {
   "display_name": "Python 3 (ipykernel)",
   "language": "python",
   "name": "python3"
  },
  "language_info": {
   "codemirror_mode": {
    "name": "ipython",
    "version": 3
   },
   "file_extension": ".py",
   "mimetype": "text/x-python",
   "name": "python",
   "nbconvert_exporter": "python",
   "pygments_lexer": "ipython3",
   "version": "3.9.12"
  }
 },
 "nbformat": 4,
 "nbformat_minor": 5
}
